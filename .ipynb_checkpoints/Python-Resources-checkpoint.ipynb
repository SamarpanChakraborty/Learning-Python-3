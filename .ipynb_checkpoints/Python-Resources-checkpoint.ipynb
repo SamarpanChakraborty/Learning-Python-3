{
 "cells": [
  {
   "cell_type": "markdown",
   "metadata": {},
   "source": [
    "## Important Resources\n",
    "\n",
    "### Python Resources:\n",
    "* Best Python Resources: https://www.fullstackpython.com/best-python-resources.html\n",
    "* Google's Tech Dev Guide: https://techdevguide.withgoogle.com\n",
    "* Twilio Blog: Python: https://www.twilio.com/blog/tag/python\n",
    "* Best Python Resources: https://www.fullstackpython.com/best-python-resources.html\n",
    "\n",
    "### Databases:\n",
    "* PostgresSQL Tutorial: http://www.postgresqltutorial.com/\n",
    "\n",
    "### Web Development:\n",
    "* Full Stack Python: https://www.fullstackpython.com/\n",
    "* Bento.io: https://bento.io/home\n",
    "\n",
    "### Data Structures and Algorithms\n",
    "* MIT Open Courseware: Introduction to Algorithms 6.006: https://courses.csail.mit.edu/6.006/fall11/notes.shtml\n",
    "\n",
    "### Mathematics\n",
    "* Statistics and Probability: \n",
    "    * EDX: MIT Course: Introduction to Probability - The Science of Uncertainty: https://www.edx.org/course/introduction-probability-science-mitx-6-041x-2\n",
    "    * Khan Academy: https://www.khanacademy.org/math/statistics-probability\n",
    "    * Books:\n",
    "        * Think Stats: https://greenteapress.com/wp/think-stats-2e/\n",
    "        * Think Bayes: http://greenteapress.com/wp/think-bayes/\n",
    "        * Introduction to Statistical Learning with Applications in R: http://www-bcf.usc.edu/~gareth/ISL/\n",
    "* Calculus:\n",
    "    * MIT Open Courseware: Multivariable Calculus: https://ocw.mit.edu/courses/mathematics/18-02-multivariable-calculus-fall-2007/index.htm\n",
    "    * Khan Academy: https://www.khanacademy.org/math/multivariable-calculus\n",
    "    * YouTube: Essence of Calculus: https://www.youtube.com/playlist?list=PLZHQObOWTQDMsr9K-rj53DwVRMYO3t5Yr\n",
    "    * YouTube: Multivariate Calculus Review: For Review Purposes: https://www.youtube.com/watch?v=l50iaaVDzLQ\n",
    "* Linear Algebra: \n",
    "    * MIT Open Courseware: Linear Algebra: https://ocw.mit.edu/courses/mathematics/18-06-linear-algebra-spring-2010/\n",
    "    * Khan Academy: https://www.khanacademy.org/math/linear-algebra\n",
    "    * YouTube: For Review Purposes: https://www.youtube.com/watch?v=6AP4IvfKmwg&list=PLnnr1O8OWc6boN4WHeuisJWmeQHH9D_Vg\n",
    "    * The Matrix Cookbook: For Review Purposes: http://www.math.uwaterloo.ca/~hwolkowi/matrixcookbook.pdf\n",
    "\n",
    "### Machine Learning\n",
    "* Elite Data Science: https://elitedatascience.com\n",
    "* Helsinki AI Course: https://course.elementsofai.com/\n",
    "* Machine Learning Mastery guide: https://machinelearningmastery.com/start-here/#getstarted\n",
    "* Elite Data Science: Data Science Primer: https://elitedatascience.com/primer\n",
    "* Elite Data Science: Data Wrangling - CryptoCurrency Edition: https://elitedatascience.com/python-data-wrangling-tutorial\n",
    "* Elite Data Science: Python fo Data Science Quickstart: https://elitedatascience.com/python-quickstart?__s=mhgos8xw6gdrcsnbi8eh"
   ]
  }
 ],
 "metadata": {
  "kernelspec": {
   "display_name": "Python 3",
   "language": "python",
   "name": "python3"
  },
  "language_info": {
   "codemirror_mode": {
    "name": "ipython",
    "version": 3
   },
   "file_extension": ".py",
   "mimetype": "text/x-python",
   "name": "python",
   "nbconvert_exporter": "python",
   "pygments_lexer": "ipython3",
   "version": "3.6.4"
  }
 },
 "nbformat": 4,
 "nbformat_minor": 2
}
